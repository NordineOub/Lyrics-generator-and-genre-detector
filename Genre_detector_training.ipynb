{
 "cells": [
  {
   "cell_type": "code",
   "execution_count": 2,
   "metadata": {},
   "outputs": [],
   "source": [
    "import pandas as pd \n",
    "import numpy as np\n",
    "import matplotlib as mpl\n",
    "import matplotlib.pyplot as plt\n",
    "\n",
    "from sklearn.model_selection import train_test_split\n",
    "from sklearn.pipeline import Pipeline\n",
    "from sklearn.model_selection import learning_curve\n",
    "from sklearn.pipeline import make_pipeline\n",
    "\n",
    "\n",
    "\n",
    "from sklearn.naive_bayes import MultinomialNB,CategoricalNB\n",
    "from sklearn.linear_model import LogisticRegression\n",
    "from sklearn.svm import LinearSVC, SVC\n",
    "from sklearn.linear_model import SGDClassifier\n",
    "\n",
    "from sklearn.feature_extraction.text import TfidfVectorizer\n",
    "from sklearn.feature_extraction.text import CountVectorizer\n",
    "\n",
    "\n",
    "# keras module for building LSTM \n",
    "from tensorflow.keras.layers import Embedding, Dropout, LSTM, Dense, Bidirectional \n",
    "from keras.preprocessing.text import Tokenizer\n",
    "from keras.callbacks import EarlyStopping\n",
    "from keras.models import Sequential\n",
    "\n",
    "from sklearn.metrics import accuracy_score, confusion_matrix\n",
    "\n",
    "from sklearn.model_selection import GridSearchCV\n",
    "import re\n",
    "\n",
    "\n"
   ]
  },
  {
   "cell_type": "code",
   "execution_count": 15,
   "metadata": {},
   "outputs": [
    {
     "data": {
      "text/html": [
       "<div>\n",
       "<style scoped>\n",
       "    .dataframe tbody tr th:only-of-type {\n",
       "        vertical-align: middle;\n",
       "    }\n",
       "\n",
       "    .dataframe tbody tr th {\n",
       "        vertical-align: top;\n",
       "    }\n",
       "\n",
       "    .dataframe thead th {\n",
       "        text-align: right;\n",
       "    }\n",
       "</style>\n",
       "<table border=\"1\" class=\"dataframe\">\n",
       "  <thead>\n",
       "    <tr style=\"text-align: right;\">\n",
       "      <th></th>\n",
       "      <th>Artist</th>\n",
       "      <th>Song</th>\n",
       "      <th>Genre</th>\n",
       "      <th>Language</th>\n",
       "      <th>Lyrics</th>\n",
       "    </tr>\n",
       "  </thead>\n",
       "  <tbody>\n",
       "    <tr>\n",
       "      <th>0</th>\n",
       "      <td>12 stones</td>\n",
       "      <td>world so cold</td>\n",
       "      <td>Rock</td>\n",
       "      <td>en</td>\n",
       "      <td>It starts with pain, followed by hate\\nFueled ...</td>\n",
       "    </tr>\n",
       "    <tr>\n",
       "      <th>1</th>\n",
       "      <td>12 stones</td>\n",
       "      <td>broken</td>\n",
       "      <td>Rock</td>\n",
       "      <td>en</td>\n",
       "      <td>Freedom!\\nAlone again again alone\\nPatiently w...</td>\n",
       "    </tr>\n",
       "    <tr>\n",
       "      <th>2</th>\n",
       "      <td>12 stones</td>\n",
       "      <td>3 leaf loser</td>\n",
       "      <td>Rock</td>\n",
       "      <td>en</td>\n",
       "      <td>Biting the hand that feeds you, lying to the v...</td>\n",
       "    </tr>\n",
       "    <tr>\n",
       "      <th>3</th>\n",
       "      <td>12 stones</td>\n",
       "      <td>anthem for the underdog</td>\n",
       "      <td>Rock</td>\n",
       "      <td>en</td>\n",
       "      <td>You say you know just who I am\\nBut you can't ...</td>\n",
       "    </tr>\n",
       "    <tr>\n",
       "      <th>4</th>\n",
       "      <td>12 stones</td>\n",
       "      <td>adrenaline</td>\n",
       "      <td>Rock</td>\n",
       "      <td>en</td>\n",
       "      <td>My heart is beating faster can't control these...</td>\n",
       "    </tr>\n",
       "    <tr>\n",
       "      <th>...</th>\n",
       "      <td>...</td>\n",
       "      <td>...</td>\n",
       "      <td>...</td>\n",
       "      <td>...</td>\n",
       "      <td>...</td>\n",
       "    </tr>\n",
       "    <tr>\n",
       "      <th>290178</th>\n",
       "      <td>bobby womack</td>\n",
       "      <td>i wish he didn t trust me so much</td>\n",
       "      <td>R&amp;B</td>\n",
       "      <td>en</td>\n",
       "      <td>I'm the best friend he's got I'd give him the ...</td>\n",
       "    </tr>\n",
       "    <tr>\n",
       "      <th>290179</th>\n",
       "      <td>bad boys blue</td>\n",
       "      <td>i totally miss you</td>\n",
       "      <td>Pop</td>\n",
       "      <td>en</td>\n",
       "      <td>Bad Boys Blue \"I Totally Miss You\" I did you w...</td>\n",
       "    </tr>\n",
       "    <tr>\n",
       "      <th>290180</th>\n",
       "      <td>celine dion</td>\n",
       "      <td>sorry for love</td>\n",
       "      <td>Pop</td>\n",
       "      <td>en</td>\n",
       "      <td>Forgive me for the things That I never said to...</td>\n",
       "    </tr>\n",
       "    <tr>\n",
       "      <th>290181</th>\n",
       "      <td>dan bern</td>\n",
       "      <td>cure for aids</td>\n",
       "      <td>Indie</td>\n",
       "      <td>en</td>\n",
       "      <td>The day they found a cure for AIDS The day the...</td>\n",
       "    </tr>\n",
       "    <tr>\n",
       "      <th>290182</th>\n",
       "      <td>crawdad republic</td>\n",
       "      <td>iceberg meadows</td>\n",
       "      <td>Pop</td>\n",
       "      <td>en</td>\n",
       "      <td>Fourth of July has come, it's custom that we g...</td>\n",
       "    </tr>\n",
       "  </tbody>\n",
       "</table>\n",
       "<p>290183 rows × 5 columns</p>\n",
       "</div>"
      ],
      "text/plain": [
       "                  Artist                               Song  Genre Language  \\\n",
       "0              12 stones                      world so cold   Rock       en   \n",
       "1              12 stones                             broken   Rock       en   \n",
       "2              12 stones                       3 leaf loser   Rock       en   \n",
       "3              12 stones            anthem for the underdog   Rock       en   \n",
       "4              12 stones                         adrenaline   Rock       en   \n",
       "...                  ...                                ...    ...      ...   \n",
       "290178      bobby womack  i wish he didn t trust me so much    R&B       en   \n",
       "290179     bad boys blue                 i totally miss you    Pop       en   \n",
       "290180       celine dion                     sorry for love    Pop       en   \n",
       "290181          dan bern                      cure for aids  Indie       en   \n",
       "290182  crawdad republic                    iceberg meadows    Pop       en   \n",
       "\n",
       "                                                   Lyrics  \n",
       "0       It starts with pain, followed by hate\\nFueled ...  \n",
       "1       Freedom!\\nAlone again again alone\\nPatiently w...  \n",
       "2       Biting the hand that feeds you, lying to the v...  \n",
       "3       You say you know just who I am\\nBut you can't ...  \n",
       "4       My heart is beating faster can't control these...  \n",
       "...                                                   ...  \n",
       "290178  I'm the best friend he's got I'd give him the ...  \n",
       "290179  Bad Boys Blue \"I Totally Miss You\" I did you w...  \n",
       "290180  Forgive me for the things That I never said to...  \n",
       "290181  The day they found a cure for AIDS The day the...  \n",
       "290182  Fourth of July has come, it's custom that we g...  \n",
       "\n",
       "[290183 rows x 5 columns]"
      ]
     },
     "execution_count": 15,
     "metadata": {},
     "output_type": "execute_result"
    }
   ],
   "source": [
    "df_train= pd.read_csv('train.csv',header =0)\n",
    "df_test = pd.read_csv('test.csv',header =0)\n",
    "\n",
    "df_train"
   ]
  },
  {
   "cell_type": "code",
   "execution_count": 16,
   "metadata": {},
   "outputs": [],
   "source": [
    "df_train = df_train[['Lyrics', 'Genre']]\n",
    "df_train.count()\n",
    "\n",
    "df_test = df_test[['Lyrics', 'Genre']]\n",
    "\n",
    "df_train = df_train.groupby('Genre', group_keys=False).apply(lambda x: x.sample(frac=(0.5)))\n",
    "\n"
   ]
  },
  {
   "cell_type": "code",
   "execution_count": 45,
   "metadata": {},
   "outputs": [
    {
     "data": {
      "text/plain": [
       "Lyrics    145070\n",
       "Genre     145090\n",
       "dtype: int64"
      ]
     },
     "execution_count": 45,
     "metadata": {},
     "output_type": "execute_result"
    }
   ],
   "source": [
    "df_train.count()"
   ]
  },
  {
   "cell_type": "code",
   "execution_count": 17,
   "metadata": {},
   "outputs": [],
   "source": [
    "df_train =df_train.dropna()\n",
    "df_train.count()\n",
    "\n",
    "df_test =df_test.dropna()"
   ]
  },
  {
   "cell_type": "code",
   "execution_count": 18,
   "metadata": {},
   "outputs": [
    {
     "name": "stderr",
     "output_type": "stream",
     "text": [
      "100%|██████████| 145073/145073 [01:03<00:00, 2267.13it/s]\n",
      "100%|██████████| 7935/7935 [00:03<00:00, 2236.22it/s]\n"
     ]
    }
   ],
   "source": [
    "from tqdm import tqdm\n",
    "tqdm.pandas()\n",
    "\n",
    "def clean_lyrics(text):\n",
    "    text = re.sub('\\n', ' ', text)  # removes new lines\n",
    "    text = re.sub('\\d', '', text)  # removes numbers\n",
    "    text = re.sub('\\t', '', text)  # removes tabs\n",
    "    text = re.sub('[^A-Za-z ]', '', text)  # removes special character\n",
    "    text = re.sub('\\[Verse\\s*\\d*:]', ' ', text)  # remove verse indicators\n",
    "    text = re.sub('\\s+', ' ', text)\n",
    "    words = text.split(\" \")\n",
    "    words = [w for w in words if len(w) > 2]  # removes a, an, to, at, be, ...\n",
    "    return ' '.join(words)\n",
    "df_train['Lyrics_cleaned'] = df_train['Lyrics'].progress_apply( lambda x : clean_lyrics(x)) \n",
    "df_test['Lyrics_cleaned'] = df_test['Lyrics'].progress_apply( lambda x : clean_lyrics(x)) "
   ]
  },
  {
   "cell_type": "code",
   "execution_count": null,
   "metadata": {},
   "outputs": [],
   "source": [
    "from gensim.parsing.preprocessing import preprocess_string\n",
    "from tqdm import tqdm\n",
    "tqdm.pandas()\n",
    "\n",
    "df_train['Lyrics_cleaned'] = df_train['Lyrics'].progress_apply( lambda x : preprocess_string(x)) \n",
    "df_test['Lyrics_cleaned'] = df_test['Lyrics'].progress_apply( lambda x : preprocess_string(x)) "
   ]
  },
  {
   "cell_type": "code",
   "execution_count": 8,
   "metadata": {},
   "outputs": [
    {
     "name": "stderr",
     "output_type": "stream",
     "text": [
      "100%|██████████| 145072/145072 [00:08<00:00, 16442.31it/s]\n",
      "100%|██████████| 7935/7935 [00:00<00:00, 16045.05it/s]\n"
     ]
    }
   ],
   "source": [
    "df_train['Lyrics_cleaned'] =df_train['Lyrics_cleaned'].progress_apply(lambda s: ' '.join(s))\n",
    "df_test['Lyrics_cleaned'] = df_test['Lyrics_cleaned'].progress_apply(lambda s: ' '.join(s))"
   ]
  },
  {
   "cell_type": "code",
   "execution_count": 20,
   "metadata": {},
   "outputs": [],
   "source": [
    "X_train, X_test, y_train, y_test = train_test_split(df_train['Lyrics_cleaned'],df_train['Genre'] ,test_size=0.3, stratify=df_train['Genre'])"
   ]
  },
  {
   "cell_type": "code",
   "execution_count": 10,
   "metadata": {},
   "outputs": [
    {
     "data": {
      "text/plain": [
       "<AxesSubplot:ylabel='Lyrics'>"
      ]
     },
     "execution_count": 10,
     "metadata": {},
     "output_type": "execute_result"
    },
    {
     "data": {
      "image/png": "[encoded data removed]",
      "text/plain": [
       "<Figure size 720x720 with 1 Axes>"
      ]
     },
     "metadata": {},
     "output_type": "display_data"
    },
    {
     "data": {
      "image/png": "[encoded data removed]",
      "text/plain": [
       "<Figure size 720x720 with 1 Axes>"
      ]
     },
     "metadata": {},
     "output_type": "display_data"
    }
   ],
   "source": [
    "df_train.groupby(['Genre']).count().plot(kind='pie', y='Lyrics', figsize= (10,10))\n",
    "df_test.groupby(['Genre']).count().plot(kind='pie', y='Lyrics', figsize= (10,10))\n"
   ]
  },
  {
   "cell_type": "code",
   "execution_count": 11,
   "metadata": {},
   "outputs": [],
   "source": [
    "#train, test = train_test_split(df4, test_size=0.3)\n",
    "train_lyrics = df_train['Lyrics_cleaned']\n",
    "train_genre = df_train['Genre']\n",
    "test_lyrics = df_test['Lyrics_cleaned']\n",
    "test_genre = df_test['Genre']\n"
   ]
  },
  {
   "cell_type": "code",
   "execution_count": 21,
   "metadata": {},
   "outputs": [],
   "source": [
    "pipe_lr_cv = Pipeline([\n",
    "    ('cv', CountVectorizer(stop_words='english',\n",
    "                           lowercase=False,\n",
    "                           analyzer='word')),\n",
    "    ('lr', LogisticRegression())\n",
    "])\n",
    "\n",
    "pipe_lr_tf = Pipeline([\n",
    "    ('tfidf', TfidfVectorizer(stop_words='english',\n",
    "                              lowercase=False,\n",
    "                              analyzer='word',\n",
    "                              )), #ngram_range = (1,2)\n",
    "    ('lr', LogisticRegression())\n",
    "])\n",
    "\n",
    "pipe_nb_cv = Pipeline([\n",
    "    ('cv', CountVectorizer(stop_words='english',\n",
    "                           lowercase=False,\n",
    "                           analyzer='word')),\n",
    "    ('nb', MultinomialNB())\n",
    "])\n",
    "\n",
    "pipe_nb_tf = Pipeline([\n",
    "    ('tfidf', TfidfVectorizer(stop_words='english',\n",
    "                              lowercase=False,\n",
    "                              analyzer='word')),\n",
    "    ('nb', MultinomialNB())\n",
    "])\n",
    "\n",
    "pipe_svc_cv = Pipeline([\n",
    "    ('cv', CountVectorizer(stop_words='english',\n",
    "                           lowercase=False,\n",
    "                           analyzer='word')),\n",
    "    ('svc',  LinearSVC())\n",
    "])\n",
    "\n",
    "pipe_svc_tf = Pipeline([\n",
    "    ('tfidf', TfidfVectorizer(stop_words='english',\n",
    "                              lowercase=False,\n",
    "                              analyzer='word',\n",
    "                              ngram_range = (1,2))),\n",
    "    ('svc', LinearSVC())\n",
    "])\n",
    "\n",
    "pipe_sgd_tf = Pipeline([\n",
    "    ('tfidf', TfidfVectorizer(stop_words='english',\n",
    "                              lowercase=False,\n",
    "                              analyzer='word',\n",
    "                              ngram_range = (1,2))),\n",
    "    ('svc', SGDClassifier())\n",
    "])\n",
    "\n",
    "\n",
    "pipelines = [pipe_lr_cv, pipe_lr_tf, pipe_nb_cv,\n",
    "             pipe_nb_tf, pipe_svc_cv, pipe_svc_tf]"
   ]
  },
  {
   "cell_type": "code",
   "execution_count": 22,
   "metadata": {},
   "outputs": [
    {
     "name": "stderr",
     "output_type": "stream",
     "text": [
      "/Users/oub/opt/anaconda3/lib/python3.9/site-packages/sklearn/linear_model/_logistic.py:763: ConvergenceWarning: lbfgs failed to converge (status=1):\n",
      "STOP: TOTAL NO. of ITERATIONS REACHED LIMIT.\n",
      "\n",
      "Increase the number of iterations (max_iter) or scale the data as shown in:\n",
      "    https://scikit-learn.org/stable/modules/preprocessing.html\n",
      "Please also refer to the documentation for alternative solver options:\n",
      "    https://scikit-learn.org/stable/modules/linear_model.html#logistic-regression\n",
      "  n_iter_i = _check_optimize_result(\n",
      "/Users/oub/opt/anaconda3/lib/python3.9/site-packages/sklearn/linear_model/_logistic.py:763: ConvergenceWarning: lbfgs failed to converge (status=1):\n",
      "STOP: TOTAL NO. of ITERATIONS REACHED LIMIT.\n",
      "\n",
      "Increase the number of iterations (max_iter) or scale the data as shown in:\n",
      "    https://scikit-learn.org/stable/modules/preprocessing.html\n",
      "Please also refer to the documentation for alternative solver options:\n",
      "    https://scikit-learn.org/stable/modules/linear_model.html#logistic-regression\n",
      "  n_iter_i = _check_optimize_result(\n",
      "/Users/oub/opt/anaconda3/lib/python3.9/site-packages/sklearn/svm/_base.py:985: ConvergenceWarning: Liblinear failed to converge, increase the number of iterations.\n",
      "  warnings.warn(\"Liblinear failed to converge, increase \"\n"
     ]
    }
   ],
   "source": [
    "# Fit pipe\n",
    "for pipe in pipelines:\n",
    "   pipe.fit(X_train, y_train)\n",
    "#pipe_svc_cv.fit(train_lyrics, train_genre) "
   ]
  },
  {
   "cell_type": "code",
   "execution_count": 20,
   "metadata": {},
   "outputs": [
    {
     "name": "stdout",
     "output_type": "stream",
     "text": [
      "[[    3     0    12     0     1    12     2    43     0   210]\n",
      " [    0    17     3     1     3     5    29   115     2   157]\n",
      " [    6     1   154     4    23    53    43   231     2   780]\n",
      " [    0     1     0    31     2     4    10   244     5    39]\n",
      " [    0     7    17     3   101    17    54   343     5   720]\n",
      " [    3     9    33     7    11   921    12   225     4   807]\n",
      " [    2    10    18     9    26    15  1274   435     5  1249]\n",
      " [   18    42   107   155   128   287   374 10312    60  4822]\n",
      " [    0     0     7     2     3    19    14   178     9   187]\n",
      " [   63    35   287    35   199   438   688  3256    41 13167]] \n",
      "\n",
      "\n",
      "\n",
      "[[    0     0     1     0     0     7     0    39     0   236]\n",
      " [    0     0     0     0     0     1    16   120     0   195]\n",
      " [    0     0    17     0     0    17    19   212     0  1032]\n",
      " [    0     0     0     0     0     0     6   289     0    41]\n",
      " [    0     0     1     0     2     7    22   441     0   794]\n",
      " [    0     0     1     0     0   794     5   283     0   949]\n",
      " [    0     0     1     1     0     4  1040   501     0  1496]\n",
      " [    0     0     3     1     1   100   118 10882     0  5200]\n",
      " [    0     0     0     0     0     8     7   192     1   211]\n",
      " [    0     0     8     0     0   152   303  3431     0 14315]] \n",
      "\n",
      "\n",
      "\n",
      "[[    0     0     2     0     1     4     1    12     0   263]\n",
      " [    0     7     0     3     5     0    43    75     0   199]\n",
      " [    0     3    66     1     4    20    50    99     0  1054]\n",
      " [    0     0     0     8     1     1     9   280     0    37]\n",
      " [    0     0     3     2    52     8    63   249     0   890]\n",
      " [    0     1     9     4     4   700    16   119     0  1179]\n",
      " [    4     5     3     2    20     7  1494   248     2  1258]\n",
      " [   33    42    34    25    81   141   437  8569     7  6936]\n",
      " [    0     0     3     0     2     6    18   109     0   281]\n",
      " [   11    43    71    13   175   187   965  2214     8 14522]] \n",
      "\n",
      "\n",
      "\n",
      "[[    0     0     0     0     0     0     0     4     0   279]\n",
      " [    0     0     0     0     0     0     0    83     0   249]\n",
      " [    0     0     2     0     0     0     0   103     0  1192]\n",
      " [    0     0     0     0     0     0     0   274     0    62]\n",
      " [    0     0     0     0     0     0     0   285     0   982]\n",
      " [    0     0     0     0     0     0     0   100     0  1932]\n",
      " [    0     0     0     0     0     0    26   262     0  2755]\n",
      " [    0     0     0     0     0     1     6  7793     0  8505]\n",
      " [    0     0     0     0     0     0     0    78     0   341]\n",
      " [    0     0     0     0     0     1     3  2406     0 15799]] \n",
      "\n",
      "\n",
      "\n",
      "[[   14     0    14     0     3    14     7    53     3   175]\n",
      " [    4    27     9     0     7     9    39   103     6   128]\n",
      " [   24     9   221     4    44    61    53   262    10   609]\n",
      " [    1     3     2    38     4     3     6   225     6    48]\n",
      " [    9    16    31     7   154    34    58   355    13   590]\n",
      " [   10     8    45     5    19  1047    21   302    17   558]\n",
      " [   12    18    45     8    77    48  1213   555    14  1053]\n",
      " [   61    77   234   137   291   370   475 10374   163  4123]\n",
      " [    2     4    10     3     8    26     7   180    20   159]\n",
      " [  138    94   498    45   452   579   863  3648   133 11759]] \n",
      "\n",
      "\n",
      "\n",
      "[[    1     0     7     0     0     5     2    55     1   212]\n",
      " [    0    17     1     0     2     1    26   126     0   159]\n",
      " [    3     0   128     1    11    32    23   237     0   862]\n",
      " [    0     0     1     6     0     1     8   278     0    42]\n",
      " [    0     0     6     0    81    18    30   432     0   700]\n",
      " [    1     0    13     0     2   967     9   300     2   738]\n",
      " [    0     1     3     0     5    13  1229   538     0  1254]\n",
      " [    3     7    38     8    29   164   189 11236     5  4626]\n",
      " [    0     0     1     0     1    13     7   206     5   186]\n",
      " [    6     5    92     2    31   236   492  3674     4 13667]] \n",
      "\n",
      "\n",
      "\n"
     ]
    }
   ],
   "source": [
    "for pipe in pipelines:\n",
    "    predicted = pipe.predict(X_test)\n",
    "    print(confusion_matrix(y_test, predicted), '\\n\\n\\n')\n"
   ]
  },
  {
   "cell_type": "code",
   "execution_count": 23,
   "metadata": {},
   "outputs": [],
   "source": [
    "methods = []\n",
    "\n",
    "for pipe in pipelines:\n",
    "    name = pipe.steps[-1][1].__class__.__name__.split('.')[-1]\n",
    "    vect = pipe.steps[0][1].__class__.__name__.split('.')[-1]\n",
    "\n",
    "    predicted = pipe.predict(X_test)\n",
    "    accuracy = accuracy_score(predicted, y_test)\n",
    "    conf_mat = confusion_matrix(y_test, predicted)\n",
    "\n",
    "    methods.append([name, vect, accuracy, conf_mat])\n",
    "\n",
    "methods = pd.DataFrame(methods)\n",
    "methods.columns = ['Model', 'Vectorizer', 'Accuracy', \"Confussion_Matrix\"]\n",
    "methods[\"Strategy\"] = methods[\"Model\"] + \" -- \" + methods[\"Vectorizer\"]\n",
    "methods.set_index([\"Strategy\"], inplace=True)"
   ]
  },
  {
   "cell_type": "code",
   "execution_count": 24,
   "metadata": {},
   "outputs": [
    {
     "data": {
      "text/html": [
       "<div>\n",
       "<style scoped>\n",
       "    .dataframe tbody tr th:only-of-type {\n",
       "        vertical-align: middle;\n",
       "    }\n",
       "\n",
       "    .dataframe tbody tr th {\n",
       "        vertical-align: top;\n",
       "    }\n",
       "\n",
       "    .dataframe thead th {\n",
       "        text-align: right;\n",
       "    }\n",
       "</style>\n",
       "<table border=\"1\" class=\"dataframe\">\n",
       "  <thead>\n",
       "    <tr style=\"text-align: right;\">\n",
       "      <th></th>\n",
       "      <th>Model</th>\n",
       "      <th>Vectorizer</th>\n",
       "      <th>Accuracy</th>\n",
       "    </tr>\n",
       "    <tr>\n",
       "      <th>Strategy</th>\n",
       "      <th></th>\n",
       "      <th></th>\n",
       "      <th></th>\n",
       "    </tr>\n",
       "  </thead>\n",
       "  <tbody>\n",
       "    <tr>\n",
       "      <th>LogisticRegression -- CountVectorizer</th>\n",
       "      <td>LogisticRegression</td>\n",
       "      <td>CountVectorizer</td>\n",
       "      <td>0.600179</td>\n",
       "    </tr>\n",
       "    <tr>\n",
       "      <th>LogisticRegression -- TfidfVectorizer</th>\n",
       "      <td>LogisticRegression</td>\n",
       "      <td>TfidfVectorizer</td>\n",
       "      <td>0.618653</td>\n",
       "    </tr>\n",
       "    <tr>\n",
       "      <th>MultinomialNB -- CountVectorizer</th>\n",
       "      <td>MultinomialNB</td>\n",
       "      <td>CountVectorizer</td>\n",
       "      <td>0.583222</td>\n",
       "    </tr>\n",
       "    <tr>\n",
       "      <th>MultinomialNB -- TfidfVectorizer</th>\n",
       "      <td>MultinomialNB</td>\n",
       "      <td>TfidfVectorizer</td>\n",
       "      <td>0.539359</td>\n",
       "    </tr>\n",
       "    <tr>\n",
       "      <th>LinearSVC -- CountVectorizer</th>\n",
       "      <td>LinearSVC</td>\n",
       "      <td>CountVectorizer</td>\n",
       "      <td>0.568402</td>\n",
       "    </tr>\n",
       "    <tr>\n",
       "      <th>LinearSVC -- TfidfVectorizer</th>\n",
       "      <td>LinearSVC</td>\n",
       "      <td>TfidfVectorizer</td>\n",
       "      <td>0.656840</td>\n",
       "    </tr>\n",
       "  </tbody>\n",
       "</table>\n",
       "</div>"
      ],
      "text/plain": [
       "                                                    Model       Vectorizer  \\\n",
       "Strategy                                                                     \n",
       "LogisticRegression -- CountVectorizer  LogisticRegression  CountVectorizer   \n",
       "LogisticRegression -- TfidfVectorizer  LogisticRegression  TfidfVectorizer   \n",
       "MultinomialNB -- CountVectorizer            MultinomialNB  CountVectorizer   \n",
       "MultinomialNB -- TfidfVectorizer            MultinomialNB  TfidfVectorizer   \n",
       "LinearSVC -- CountVectorizer                    LinearSVC  CountVectorizer   \n",
       "LinearSVC -- TfidfVectorizer                    LinearSVC  TfidfVectorizer   \n",
       "\n",
       "                                       Accuracy  \n",
       "Strategy                                         \n",
       "LogisticRegression -- CountVectorizer  0.600179  \n",
       "LogisticRegression -- TfidfVectorizer  0.618653  \n",
       "MultinomialNB -- CountVectorizer       0.583222  \n",
       "MultinomialNB -- TfidfVectorizer       0.539359  \n",
       "LinearSVC -- CountVectorizer           0.568402  \n",
       "LinearSVC -- TfidfVectorizer           0.656840  "
      ]
     },
     "execution_count": 24,
     "metadata": {},
     "output_type": "execute_result"
    }
   ],
   "source": [
    "methods[[\"Model\", \"Vectorizer\", \"Accuracy\"]]"
   ]
  },
  {
   "cell_type": "code",
   "execution_count": null,
   "metadata": {},
   "outputs": [],
   "source": []
  },
  {
   "cell_type": "code",
   "execution_count": 34,
   "metadata": {},
   "outputs": [
    {
     "data": {
      "text/plain": [
       "<AxesSubplot:title={'center':'Accuracy'}, xlabel='Strategy'>"
      ]
     },
     "execution_count": 34,
     "metadata": {},
     "output_type": "execute_result"
    },
    {
     "data": {
      "image/png": "[encoded data removed]",
      "text/plain": [
       "<Figure size 1152x576 with 1 Axes>"
      ]
     },
     "metadata": {
      "needs_background": "light"
     },
     "output_type": "display_data"
    }
   ],
   "source": [
    "# %matplotlib inline\n",
    "methods.plot(figsize=(16, 8), kind='bar', title='Accuracy',\n",
    "             rot=30, ylim=(0.5, 1), colormap='tab10')"
   ]
  },
  {
   "cell_type": "code",
   "execution_count": 64,
   "metadata": {},
   "outputs": [
    {
     "data": {
      "text/plain": [
       "Pipeline(steps=[('tfidf',\n",
       "                 TfidfVectorizer(lowercase=False, ngram_range=(1, 3),\n",
       "                                 stop_words='english')),\n",
       "                ('svc', SGDClassifier())])"
      ]
     },
     "execution_count": 64,
     "metadata": {},
     "output_type": "execute_result"
    }
   ],
   "source": [
    "pipe_sgd_tf.fit(X_train, y_train) "
   ]
  },
  {
   "cell_type": "code",
   "execution_count": 66,
   "metadata": {},
   "outputs": [
    {
     "name": "stdout",
     "output_type": "stream",
     "text": [
      "0.5974082668933667\n"
     ]
    }
   ],
   "source": [
    "\n",
    "predicted = pipe_sgd_tf.predict(X_test)\n",
    "accuracy = accuracy_score(predicted, y_test)\n",
    "print(accuracy)"
   ]
  },
  {
   "cell_type": "code",
   "execution_count": 49,
   "metadata": {},
   "outputs": [
    {
     "data": {
      "text/plain": [
       "['pipe_svc_tf_0658.pkl']"
      ]
     },
     "execution_count": 49,
     "metadata": {},
     "output_type": "execute_result"
    }
   ],
   "source": [
    "import joblib\n",
    "\n",
    "joblib.dump(pipe_svc_tf, 'pipe_svc_tf_0658.pkl') \n"
   ]
  },
  {
   "cell_type": "markdown",
   "metadata": {},
   "source": [
    "## GridSearchCV"
   ]
  },
  {
   "cell_type": "code",
   "execution_count": 62,
   "metadata": {},
   "outputs": [
    {
     "data": {
      "text/plain": [
       "dict_keys(['memory', 'steps', 'verbose', 'tfidf', 'svc', 'tfidf__analyzer', 'tfidf__binary', 'tfidf__decode_error', 'tfidf__dtype', 'tfidf__encoding', 'tfidf__input', 'tfidf__lowercase', 'tfidf__max_df', 'tfidf__max_features', 'tfidf__min_df', 'tfidf__ngram_range', 'tfidf__norm', 'tfidf__preprocessor', 'tfidf__smooth_idf', 'tfidf__stop_words', 'tfidf__strip_accents', 'tfidf__sublinear_tf', 'tfidf__token_pattern', 'tfidf__tokenizer', 'tfidf__use_idf', 'tfidf__vocabulary', 'svc__C', 'svc__class_weight', 'svc__dual', 'svc__fit_intercept', 'svc__intercept_scaling', 'svc__loss', 'svc__max_iter', 'svc__multi_class', 'svc__penalty', 'svc__random_state', 'svc__tol', 'svc__verbose'])"
      ]
     },
     "execution_count": 62,
     "metadata": {},
     "output_type": "execute_result"
    }
   ],
   "source": [
    "pipe_svc_tf.get_params().keys()"
   ]
  },
  {
   "cell_type": "code",
   "execution_count": 22,
   "metadata": {},
   "outputs": [],
   "source": [
    "from sklearn.experimental import enable_halving_search_cv # noqa\n",
    " # now you can import normally from model_selection\n",
    "from sklearn.model_selection import HalvingGridSearchCV"
   ]
  },
  {
   "cell_type": "code",
   "execution_count": 63,
   "metadata": {},
   "outputs": [],
   "source": [
    "grid = {\n",
    "   # 'svc__loss': ['squared_hinge'], #'modified_huber'\n",
    "   # 'svc__penalty': ['elasticnet']\n",
    "}\n",
    "\n",
    "gs = HalvingGridSearchCV(pipe_svc_tf, \n",
    "                        param_grid=grid,\n",
    "                        scoring='accuracy', \n",
    "                        n_jobs=-1)"
   ]
  },
  {
   "cell_type": "code",
   "execution_count": 64,
   "metadata": {},
   "outputs": [
    {
     "data": {
      "text/plain": [
       "HalvingGridSearchCV(estimator=Pipeline(steps=[('tfidf',\n",
       "                                               TfidfVectorizer(lowercase=False,\n",
       "                                                               stop_words='english')),\n",
       "                                              ('svc', LinearSVC(C=2))]),\n",
       "                    n_jobs=-1, param_grid={},\n",
       "                    refit=<function _refit_callable at 0x7fd1e2cfa3a0>,\n",
       "                    scoring='accuracy')"
      ]
     },
     "execution_count": 64,
     "metadata": {},
     "output_type": "execute_result"
    }
   ],
   "source": [
    "gs.fit(train_lyrics, train_genre)"
   ]
  },
  {
   "cell_type": "code",
   "execution_count": 65,
   "metadata": {},
   "outputs": [
    {
     "data": {
      "text/plain": [
       "{'iter': array([0]),\n",
       " 'n_resources': array([290148]),\n",
       " 'mean_fit_time': array([439.51652145]),\n",
       " 'std_fit_time': array([392.71483511]),\n",
       " 'mean_score_time': array([12.63487477]),\n",
       " 'std_score_time': array([3.74240681]),\n",
       " 'params': [{}],\n",
       " 'split0_test_score': array([0.60492849]),\n",
       " 'split1_test_score': array([0.62045494]),\n",
       " 'split2_test_score': array([0.62038601]),\n",
       " 'split3_test_score': array([0.58684451]),\n",
       " 'split4_test_score': array([0.56144342]),\n",
       " 'mean_test_score': array([0.59881147]),\n",
       " 'std_test_score': array([0.02240936]),\n",
       " 'rank_test_score': array([1], dtype=int32),\n",
       " 'split0_train_score': array([0.74500039]),\n",
       " 'split1_train_score': array([0.74484529]),\n",
       " 'split2_train_score': array([0.74878725]),\n",
       " 'split3_train_score': array([0.76639138]),\n",
       " 'split4_train_score': array([0.77082876]),\n",
       " 'mean_train_score': array([0.75517061]),\n",
       " 'std_train_score': array([0.01115236])}"
      ]
     },
     "execution_count": 65,
     "metadata": {},
     "output_type": "execute_result"
    }
   ],
   "source": [
    "gs.cv_results_\n"
   ]
  },
  {
   "cell_type": "code",
   "execution_count": 12,
   "metadata": {},
   "outputs": [
    {
     "data": {
      "text/plain": [
       "TfidfVectorizer(lowercase=False, stop_words='english')"
      ]
     },
     "execution_count": 12,
     "metadata": {},
     "output_type": "execute_result"
    }
   ],
   "source": [
    "gs.best_estimator_.steps[0][1]  # best model\n"
   ]
  },
  {
   "cell_type": "code",
   "execution_count": 67,
   "metadata": {},
   "outputs": [
    {
     "data": {
      "text/plain": [
       "{}"
      ]
     },
     "execution_count": 67,
     "metadata": {},
     "output_type": "execute_result"
    }
   ],
   "source": [
    "gs.best_params_"
   ]
  },
  {
   "cell_type": "code",
   "execution_count": 66,
   "metadata": {},
   "outputs": [
    {
     "name": "stdout",
     "output_type": "stream",
     "text": [
      "Accuracy: 0.2977\n"
     ]
    }
   ],
   "source": [
    "pred = gs.predict(test_lyrics)\n",
    "\n",
    "\n",
    "accuracy = accuracy_score(pred, test_genre)\n",
    "print(f\"Accuracy: {accuracy:.4f}\")"
   ]
  },
  {
   "cell_type": "code",
   "execution_count": 34,
   "metadata": {},
   "outputs": [],
   "source": [
    "def predictor(string, train=df_train['Lyrics_cleaned'], model=pipe_svc_tf):\n",
    "    \"\"\"given a string predict a genre based on the lyrics and best trained model (or a given ones). \n",
    "    \"\"\"\n",
    "    pred = model.predict([clean_lyrics(string)])\n",
    "    return list(pred)"
   ]
  },
  {
   "cell_type": "code",
   "execution_count": 35,
   "metadata": {},
   "outputs": [],
   "source": [
    "mystery1 = \"\"\"Got a little boom in my big truck\n",
    "Gonna open up the doors and turn it up\n",
    "Gonna stomp my boots in the Georgia mud\n",
    "Gonna watch you make me fall in love\n",
    "Get up on the hood of my daddy's tractor\n",
    "Up on the tool box, it don't matter\n",
    "Down on the tailgate\n",
    "Girl I can't wait\n",
    "To watch you do your thing\n",
    "\"\"\"\n"
   ]
  },
  {
   "cell_type": "code",
   "execution_count": 36,
   "metadata": {},
   "outputs": [
    {
     "data": {
      "text/plain": [
       "['Rock']"
      ]
     },
     "execution_count": 36,
     "metadata": {},
     "output_type": "execute_result"
    }
   ],
   "source": [
    "predictor(mystery1)"
   ]
  },
  {
   "cell_type": "code",
   "execution_count": 37,
   "metadata": {},
   "outputs": [],
   "source": [
    "mystery2 = \"\"\"Oh, sometimes\n",
    "I get a good feeling, yeah\n",
    "Get a feeling that I never, \n",
    "never, never, never had before, no no\n",
    "I get a good feeling, yeah\n",
    "\"\"\""
   ]
  },
  {
   "cell_type": "code",
   "execution_count": 38,
   "metadata": {},
   "outputs": [
    {
     "data": {
      "text/plain": [
       "['Pop']"
      ]
     },
     "execution_count": 38,
     "metadata": {},
     "output_type": "execute_result"
    }
   ],
   "source": [
    "predictor(mystery2)"
   ]
  },
  {
   "cell_type": "code",
   "execution_count": 61,
   "metadata": {},
   "outputs": [],
   "source": [
    "mystery3 = \"\"\"Don't forget our Monday date\n",
    "Oh little baby, don't be late\n",
    "I said don't forget our Monday date\n",
    "At the same little place, about half past eight\n",
    "\n",
    "Now I'm gonna press my suit\n",
    "I'm gonna shine my shoes\n",
    "I'm gonna spread the news\n",
    "And I'm gonna chase away the blues\n",
    "So don't forget our Monday date\n",
    "Please, baby, don't be late\n",
    "\"\"\""
   ]
  },
  {
   "cell_type": "code",
   "execution_count": 62,
   "metadata": {},
   "outputs": [
    {
     "data": {
      "text/plain": [
       "['Rock']"
      ]
     },
     "execution_count": 62,
     "metadata": {},
     "output_type": "execute_result"
    }
   ],
   "source": [
    "predictor(mystery3)\n"
   ]
  },
  {
   "cell_type": "code",
   "execution_count": 41,
   "metadata": {},
   "outputs": [],
   "source": [
    "mystery4 = \"\"\"How many brothers fell victim to the streets?\n",
    "Rest in peace, young nigga, there's a heaven for a G\n",
    "Be a lie If I told you that I never thought of death\n",
    "My niggas, we the last ones left, but life goes on\n",
    "How many brothers fell victim to the streets?\n",
    "Rest in peace, young nigga, there's a heaven for a G\n",
    "Be a lie If I told you that I never thought of death\"\"\""
   ]
  },
  {
   "cell_type": "code",
   "execution_count": 42,
   "metadata": {},
   "outputs": [
    {
     "data": {
      "text/plain": [
       "['Pop']"
      ]
     },
     "execution_count": 42,
     "metadata": {},
     "output_type": "execute_result"
    }
   ],
   "source": [
    "predictor(mystery4)"
   ]
  },
  {
   "cell_type": "code",
   "execution_count": 47,
   "metadata": {},
   "outputs": [],
   "source": [
    "mystery5 =\"\"\"ve felt the hate rise up in me\n",
    "Kneel down and clear the stone of leaves\n",
    "I wander out where you can't see\n",
    "Inside my shell, I wait and bleed\n",
    "\n",
    "I've felt the hate rise up in me\n",
    "Kneel down and clear the stone of leaves\n",
    "I wander out where you can't see\n",
    "Inside my shell, I wait and bleed\"\"\""
   ]
  },
  {
   "cell_type": "code",
   "execution_count": 48,
   "metadata": {},
   "outputs": [
    {
     "data": {
      "text/plain": [
       "['Metal']"
      ]
     },
     "execution_count": 48,
     "metadata": {},
     "output_type": "execute_result"
    }
   ],
   "source": [
    "predictor(mystery5)"
   ]
  },
  {
   "cell_type": "code",
   "execution_count": 45,
   "metadata": {},
   "outputs": [],
   "source": [
    "mystery6 = \"\"\"Empty spaces.\n",
    "What are we living for?\n",
    "Abandoned places.\n",
    "I guess we know the score.\n",
    "\n",
    "On and on.\n",
    "Does anybody know what we are looking for?\n",
    "\n",
    "Another hero,\n",
    "Another mindless crime\n",
    "Behind the curtain\n",
    "In the pantomime.\n",
    "\"\"\""
   ]
  },
  {
   "cell_type": "code",
   "execution_count": 46,
   "metadata": {},
   "outputs": [
    {
     "data": {
      "text/plain": [
       "['Rock']"
      ]
     },
     "execution_count": 46,
     "metadata": {},
     "output_type": "execute_result"
    }
   ],
   "source": [
    "predictor(mystery6)"
   ]
  },
  {
   "cell_type": "code",
   "execution_count": 68,
   "metadata": {},
   "outputs": [
    {
     "name": "stdout",
     "output_type": "stream",
     "text": [
      "['Rock']\n"
     ]
    }
   ],
   "source": [
    "model_from_joblib = joblib.load('pipe_svc_tf_0658.pkl')\n",
    "print(model_from_joblib.predict([mystery6]))"
   ]
  }
 ],
 "metadata": {
  "interpreter": {
   "hash": "b5b270ea6e464d855d17abd4fc71c5752b3009b37682238331a225d42ee4ac9e"
  },
  "kernelspec": {
   "display_name": "Python 3.9.7 ('base')",
   "language": "python",
   "name": "python3"
  },
  "language_info": {
   "codemirror_mode": {
    "name": "ipython",
    "version": 3
   },
   "file_extension": ".py",
   "mimetype": "text/x-python",
   "name": "python",
   "nbconvert_exporter": "python",
   "pygments_lexer": "ipython3",
   "version": "3.9.7"
  },
  "orig_nbformat": 4
 },
 "nbformat": 4,
 "nbformat_minor": 2
}
